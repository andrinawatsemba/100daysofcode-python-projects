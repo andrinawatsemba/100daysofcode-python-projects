{
 "cells": [
  {
   "cell_type": "code",
   "execution_count": null,
   "id": "74eac3ae",
   "metadata": {},
   "outputs": [],
   "source": [
    "import requests\n",
    "\n",
    "def get_weather(city):\n",
    "    api_key = \"YOUR_API_KEY\"  # Replace with your OpenWeather API key\n",
    "    base_url = \"https://api.openweathermap.org/data/2.5/weather\"\n",
    "\n",
    "    params = {\n",
    "        \"q\": city,\n",
    "\"appid\": api_key,\n",
    "        \"units\": \"metric\"  # For Celsius\n",
    "    }\n",
    "\n",
    "    response = requests.get(base_url, params=params)\n",
    "\n",
    "    if response.status_code == 200:\n",
    "        data = response.json()\n",
    "        print(f\"Weather in {city}:\\n\")\n",
    "        print(f\"🌡 Temperature: {data['main']['temp']}°C\")\n",
    "        print(f\"☁ Condition: {data['weather'][0]['description'].capitalize()}\")\n",
    "        print(f\"💧 Humidity: {data['main']['humidity']}%\")\n",
    "        print(f\"💨 Wind Speed: {data['wind']['speed']} m/s\")\n",
    "    else:\n",
    "        print(\"City not found or error fetching data.\")\n",
    "\n",
    "#Example usage\n",
    "get_weather(\"Mumbai\")\n"
   ]
  }
 ],
 "metadata": {
  "language_info": {
   "name": "python"
  }
 },
 "nbformat": 4,
 "nbformat_minor": 5
}
