{
 "cells": [
  {
   "cell_type": "code",
   "execution_count": 4,
   "id": "74eac3ae",
   "metadata": {},
   "outputs": [
    {
     "name": "stdout",
     "output_type": "stream",
     "text": [
      "City not found or error fetching data.\n"
     ]
    }
   ],
   "source": [
    "import requests\n",
    "\n",
    "def get_weather(city):\n",
    "    api_key = \"73aefab8aaab9add171be7b11ffa366d\" \n",
    "    base_url = \"https://api.openweathermap.org/data/2.5/weather\"\n",
    "\n",
    "    params = {\n",
    "        \"q\": city,\n",
    "\"appid\": api_key,\n",
    "        \"units\": \"metric\"  # For Celsius\n",
    "    }\n",
    "\n",
    "    response = requests.get(base_url, params=params)\n",
    "\n",
    "    if response.status_code == 200:\n",
    "        data = response.json()\n",
    "        print(f\"Weather in {city}:\\n\")\n",
    "        print(f\"🌡 Temperature: {data['main']['temp']}°C\")\n",
    "        print(f\"☁ Condition: {data['weather'][0]['description'].capitalize()}\")\n",
    "        print(f\"💧 Humidity: {data['main']['humidity']}%\")\n",
    "        print(f\"💨 Wind Speed: {data['wind']['speed']} m/s\")\n",
    "    else:\n",
    "        print(\"City not found or error fetching data.\")\n",
    "\n",
    "#Example usage\n",
    "get_weather(\"Mukono,Uganda\")\n"
   ]
  }
 ],
 "metadata": {
  "kernelspec": {
   "display_name": "Python 3",
   "language": "python",
   "name": "python3"
  },
  "language_info": {
   "codemirror_mode": {
    "name": "ipython",
    "version": 3
   },
   "file_extension": ".py",
   "mimetype": "text/x-python",
   "name": "python",
   "nbconvert_exporter": "python",
   "pygments_lexer": "ipython3",
   "version": "3.13.7"
  }
 },
 "nbformat": 4,
 "nbformat_minor": 5
}
