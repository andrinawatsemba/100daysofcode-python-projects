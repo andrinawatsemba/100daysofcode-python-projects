{
 "cells": [
  {
   "cell_type": "code",
   "execution_count": null,
   "id": "7d246b12",
   "metadata": {},
   "outputs": [],
   "source": [
    "import pandas as pd\n"
   ]
  },
  {
   "cell_type": "code",
   "execution_count": null,
   "id": "87ffcedd",
   "metadata": {},
   "outputs": [
    {
     "name": "stdout",
     "output_type": "stream",
     "text": [
      "Collecting openpyxl\n",
      "  Downloading openpyxl-3.1.5-py2.py3-none-any.whl.metadata (2.5 kB)\n",
      "Collecting et-xmlfile (from openpyxl)\n",
      "  Downloading et_xmlfile-2.0.0-py3-none-any.whl.metadata (2.7 kB)\n",
      "Downloading openpyxl-3.1.5-py2.py3-none-any.whl (250 kB)\n",
      "Downloading et_xmlfile-2.0.0-py3-none-any.whl (18 kB)\n",
      "Installing collected packages: et-xmlfile, openpyxl\n",
      "\n",
      "   -------------------- ------------------- 1/2 [openpyxl]\n",
      "   -------------------- ------------------- 1/2 [openpyxl]\n",
      "   -------------------- ------------------- 1/2 [openpyxl]\n",
      "   -------------------- ------------------- 1/2 [openpyxl]\n",
      "   -------------------- ------------------- 1/2 [openpyxl]\n",
      "   -------------------- ------------------- 1/2 [openpyxl]\n",
      "   -------------------- ------------------- 1/2 [openpyxl]\n",
      "   -------------------- ------------------- 1/2 [openpyxl]\n",
      "   -------------------- ------------------- 1/2 [openpyxl]\n",
      "   -------------------- ------------------- 1/2 [openpyxl]\n",
      "   -------------------- ------------------- 1/2 [openpyxl]\n",
      "   -------------------- ------------------- 1/2 [openpyxl]\n",
      "   -------------------- ------------------- 1/2 [openpyxl]\n",
      "   -------------------- ------------------- 1/2 [openpyxl]\n",
      "   -------------------- ------------------- 1/2 [openpyxl]\n",
      "   -------------------- ------------------- 1/2 [openpyxl]\n",
      "   -------------------- ------------------- 1/2 [openpyxl]\n",
      "   -------------------- ------------------- 1/2 [openpyxl]\n",
      "   -------------------- ------------------- 1/2 [openpyxl]\n",
      "   -------------------- ------------------- 1/2 [openpyxl]\n",
      "   -------------------- ------------------- 1/2 [openpyxl]\n",
      "   -------------------- ------------------- 1/2 [openpyxl]\n",
      "   ---------------------------------------- 2/2 [openpyxl]\n",
      "\n",
      "Successfully installed et-xmlfile-2.0.0 openpyxl-3.1.5\n",
      "Note: you may need to restart the kernel to use updated packages.\n"
     ]
    }
   ],
   "source": [
    "%pip install openpyxl"
   ]
  },
  {
   "cell_type": "code",
   "execution_count": null,
   "id": "8a71b331",
   "metadata": {},
   "outputs": [
    {
     "name": "stdout",
     "output_type": "stream",
     "text": [
      "CSV Data:\n",
      "   platform     hashtag  n_videos      views     likes  comments   shares  \\\n",
      "0    TikTok        #FYP      7379  734064265  51402240   5651829  4998382   \n",
      "1    TikTok       #GRWM      1013  111331419   7726251    843072   753230   \n",
      "2    TikTok     #Comedy       762   79538424   5748752    620867   551845   \n",
      "3    TikTok  #Lifestyle       782   78531438   5437932    590141   532055   \n",
      "4    TikTok  #Relatable       795   76879158   5452690    603507   527910   \n",
      "..      ...         ...       ...        ...       ...       ...      ...   \n",
      "77  YouTube   #Streamer       286   26276852   1060622    111847   100032   \n",
      "78  YouTube     #Beauty       288   24769612    913494    104134    87134   \n",
      "79  YouTube     #Crafts        35    4348818    152466     14969    14297   \n",
      "80  YouTube        #DIY        26    2760492    122394     12845    12735   \n",
      "81  YouTube  #LifeHacks        31    2435911     96785     10526     9340   \n",
      "\n",
      "      saves    avg_er  avg_engagement_velocity  avg_comment_ratio  \\\n",
      "0   5348188  0.091838             13954.979633           0.007692   \n",
      "1    777258  0.091320             15906.769319           0.007638   \n",
      "2    606968  0.092762             14930.337533           0.007677   \n",
      "3    578370  0.091395             13480.843389           0.007536   \n",
      "4    557667  0.092813             13024.526164           0.007796   \n",
      "..      ...       ...                      ...                ...   \n",
      "77   114928  0.051714             11069.796434           0.004169   \n",
      "78    96478  0.049295             11229.686458           0.004172   \n",
      "79    20097  0.048971             12933.123429           0.003670   \n",
      "80    10167  0.053638             15458.086923           0.004445   \n",
      "81    10245  0.053519             12360.546129           0.004519   \n",
      "\n",
      "    avg_share_rate  avg_save_rate  avg_like_dislike_ratio  \\\n",
      "0         0.006783       0.007221               51.436016   \n",
      "1         0.006746       0.007104               49.449781   \n",
      "2         0.006833       0.007625               49.351872   \n",
      "3         0.006713       0.007324               51.094024   \n",
      "4         0.006919       0.007223               48.388414   \n",
      "..             ...            ...                     ...   \n",
      "77        0.003796       0.004284               15.895462   \n",
      "78        0.003589       0.003890               16.099786   \n",
      "79        0.003526       0.004000               15.080030   \n",
      "80        0.003892       0.004029               15.933150   \n",
      "81        0.003886       0.004273               13.785287   \n",
      "\n",
      "    avg_engagement_per_1k  avg_like_rate  avg_dislike_rate  total_engagements  \n",
      "0               91.837843       0.070141          0.001892           67400639  \n",
      "1               91.319729       0.069833          0.001921           10099811  \n",
      "2               92.761520       0.070627          0.001941            7528432  \n",
      "3               91.394959       0.069822          0.001843            7138498  \n",
      "4               92.813268       0.070875          0.001966            7141774  \n",
      "..                    ...            ...               ...                ...  \n",
      "77              51.714346       0.039465          0.003200            1387429  \n",
      "78              49.294625       0.037644          0.003102            1201240  \n",
      "79              48.970571       0.037775          0.003265             201829  \n",
      "80              53.637692       0.041272          0.003386             158141  \n",
      "81              53.518516       0.040840          0.003712             126896  \n",
      "\n",
      "[82 rows x 18 columns]\n",
      "\n",
      "Excel Data:\n"
     ]
    }
   ],
   "source": [
    "#Read data from CSV\n",
    "\n",
    "##script that can read data from a CSV file and write it to an Excel file (and vice versa).\n",
    "\n",
    "csv_data = pd.read_csv(\"data.csv\")\n",
    "print(\"CSV Data:\")\n",
    "print(csv_data)\n",
    "\n",
    "#Write to Excel\n",
    "csv_data.to_excel(\"data_output.xlsx\", index=False)\n",
    "\n",
    "#Read back from Excel\n",
    "excel_data = pd.read_excel(\"data_output.xlsx\")\n",
    "print(\"\\nExcel Data:\")\n",
    "print(excel_data)\n",
    "\n",
    "print(f\"\\nData summary:\")\n",
    "print(f\"CSV shape: {csv_data.shape}\")\n",
    "print(f\"Excel shape: {excel_data.shape}\")\n",
    "print(f\"Data is identical: {csv_data.equals(excel_data)}\")\n"
   ]
  },
  {
   "cell_type": "markdown",
   "id": "3360ee7e",
   "metadata": {},
   "source": [
    "###reading a json file"
   ]
  },
  {
   "cell_type": "code",
   "execution_count": 1,
   "id": "7754841e",
   "metadata": {},
   "outputs": [
    {
     "name": "stdout",
     "output_type": "stream",
     "text": [
      "Original Data:\n",
      "[{'sepalLength': 5.1, 'sepalWidth': 3.5, 'petalLength': 1.4, 'petalWidth': 0.2, 'species': 'setosa'}, {'sepalLength': 4.9, 'sepalWidth': 3.0, 'petalLength': 1.4, 'petalWidth': 0.2, 'species': 'setosa'}, {'sepalLength': 4.7, 'sepalWidth': 3.2, 'petalLength': 1.3, 'petalWidth': 0.2, 'species': 'setosa'}, {'sepalLength': 4.6, 'sepalWidth': 3.1, 'petalLength': 1.5, 'petalWidth': 0.2, 'species': 'setosa'}, {'sepalLength': 5.0, 'sepalWidth': 3.6, 'petalLength': 1.4, 'petalWidth': 0.2, 'species': 'setosa'}, {'sepalLength': 5.4, 'sepalWidth': 3.9, 'petalLength': 1.7, 'petalWidth': 0.4, 'species': 'setosa'}, {'sepalLength': 4.6, 'sepalWidth': 3.4, 'petalLength': 1.4, 'petalWidth': 0.3, 'species': 'setosa'}, {'sepalLength': 5.0, 'sepalWidth': 3.4, 'petalLength': 1.5, 'petalWidth': 0.2, 'species': 'setosa'}, {'sepalLength': 4.4, 'sepalWidth': 2.9, 'petalLength': 1.4, 'petalWidth': 0.2, 'species': 'setosa'}, {'sepalLength': 4.9, 'sepalWidth': 3.1, 'petalLength': 1.5, 'petalWidth': 0.1, 'species': 'setosa'}, {'sepalLength': 5.4, 'sepalWidth': 3.7, 'petalLength': 1.5, 'petalWidth': 0.2, 'species': 'setosa'}, {'sepalLength': 4.8, 'sepalWidth': 3.4, 'petalLength': 1.6, 'petalWidth': 0.2, 'species': 'setosa'}, {'sepalLength': 4.8, 'sepalWidth': 3.0, 'petalLength': 1.4, 'petalWidth': 0.1, 'species': 'setosa'}, {'sepalLength': 4.3, 'sepalWidth': 3.0, 'petalLength': 1.1, 'petalWidth': 0.1, 'species': 'setosa'}, {'sepalLength': 5.8, 'sepalWidth': 4.0, 'petalLength': 1.2, 'petalWidth': 0.2, 'species': 'setosa'}, {'sepalLength': 5.7, 'sepalWidth': 4.4, 'petalLength': 1.5, 'petalWidth': 0.4, 'species': 'setosa'}, {'sepalLength': 5.4, 'sepalWidth': 3.9, 'petalLength': 1.3, 'petalWidth': 0.4, 'species': 'setosa'}, {'sepalLength': 5.1, 'sepalWidth': 3.5, 'petalLength': 1.4, 'petalWidth': 0.3, 'species': 'setosa'}, {'sepalLength': 5.7, 'sepalWidth': 3.8, 'petalLength': 1.7, 'petalWidth': 0.3, 'species': 'setosa'}, {'sepalLength': 5.1, 'sepalWidth': 3.8, 'petalLength': 1.5, 'petalWidth': 0.3, 'species': 'setosa'}, {'sepalLength': 5.4, 'sepalWidth': 3.4, 'petalLength': 1.7, 'petalWidth': 0.2, 'species': 'setosa'}, {'sepalLength': 5.1, 'sepalWidth': 3.7, 'petalLength': 1.5, 'petalWidth': 0.4, 'species': 'setosa'}, {'sepalLength': 4.6, 'sepalWidth': 3.6, 'petalLength': 1.0, 'petalWidth': 0.2, 'species': 'setosa'}, {'sepalLength': 5.1, 'sepalWidth': 3.3, 'petalLength': 1.7, 'petalWidth': 0.5, 'species': 'setosa'}, {'sepalLength': 4.8, 'sepalWidth': 3.4, 'petalLength': 1.9, 'petalWidth': 0.2, 'species': 'setosa'}, {'sepalLength': 5.0, 'sepalWidth': 3.0, 'petalLength': 1.6, 'petalWidth': 0.2, 'species': 'setosa'}, {'sepalLength': 5.0, 'sepalWidth': 3.4, 'petalLength': 1.6, 'petalWidth': 0.4, 'species': 'setosa'}, {'sepalLength': 5.2, 'sepalWidth': 3.5, 'petalLength': 1.5, 'petalWidth': 0.2, 'species': 'setosa'}, {'sepalLength': 5.2, 'sepalWidth': 3.4, 'petalLength': 1.4, 'petalWidth': 0.2, 'species': 'setosa'}, {'sepalLength': 4.7, 'sepalWidth': 3.2, 'petalLength': 1.6, 'petalWidth': 0.2, 'species': 'setosa'}, {'sepalLength': 4.8, 'sepalWidth': 3.1, 'petalLength': 1.6, 'petalWidth': 0.2, 'species': 'setosa'}, {'sepalLength': 5.4, 'sepalWidth': 3.4, 'petalLength': 1.5, 'petalWidth': 0.4, 'species': 'setosa'}, {'sepalLength': 5.2, 'sepalWidth': 4.1, 'petalLength': 1.5, 'petalWidth': 0.1, 'species': 'setosa'}, {'sepalLength': 5.5, 'sepalWidth': 4.2, 'petalLength': 1.4, 'petalWidth': 0.2, 'species': 'setosa'}, {'sepalLength': 4.9, 'sepalWidth': 3.1, 'petalLength': 1.5, 'petalWidth': 0.2, 'species': 'setosa'}, {'sepalLength': 5.0, 'sepalWidth': 3.2, 'petalLength': 1.2, 'petalWidth': 0.2, 'species': 'setosa'}, {'sepalLength': 5.5, 'sepalWidth': 3.5, 'petalLength': 1.3, 'petalWidth': 0.2, 'species': 'setosa'}, {'sepalLength': 4.9, 'sepalWidth': 3.6, 'petalLength': 1.4, 'petalWidth': 0.1, 'species': 'setosa'}, {'sepalLength': 4.4, 'sepalWidth': 3.0, 'petalLength': 1.3, 'petalWidth': 0.2, 'species': 'setosa'}, {'sepalLength': 5.1, 'sepalWidth': 3.4, 'petalLength': 1.5, 'petalWidth': 0.2, 'species': 'setosa'}, {'sepalLength': 5.0, 'sepalWidth': 3.5, 'petalLength': 1.3, 'petalWidth': 0.3, 'species': 'setosa'}, {'sepalLength': 4.5, 'sepalWidth': 2.3, 'petalLength': 1.3, 'petalWidth': 0.3, 'species': 'setosa'}, {'sepalLength': 4.4, 'sepalWidth': 3.2, 'petalLength': 1.3, 'petalWidth': 0.2, 'species': 'setosa'}, {'sepalLength': 5.0, 'sepalWidth': 3.5, 'petalLength': 1.6, 'petalWidth': 0.6, 'species': 'setosa'}, {'sepalLength': 5.1, 'sepalWidth': 3.8, 'petalLength': 1.9, 'petalWidth': 0.4, 'species': 'setosa'}, {'sepalLength': 4.8, 'sepalWidth': 3.0, 'petalLength': 1.4, 'petalWidth': 0.3, 'species': 'setosa'}, {'sepalLength': 5.1, 'sepalWidth': 3.8, 'petalLength': 1.6, 'petalWidth': 0.2, 'species': 'setosa'}, {'sepalLength': 4.6, 'sepalWidth': 3.2, 'petalLength': 1.4, 'petalWidth': 0.2, 'species': 'setosa'}, {'sepalLength': 5.3, 'sepalWidth': 3.7, 'petalLength': 1.5, 'petalWidth': 0.2, 'species': 'setosa'}, {'sepalLength': 5.0, 'sepalWidth': 3.3, 'petalLength': 1.4, 'petalWidth': 0.2, 'species': 'setosa'}, {'sepalLength': 7.0, 'sepalWidth': 3.2, 'petalLength': 4.7, 'petalWidth': 1.4, 'species': 'versicolor'}, {'sepalLength': 6.4, 'sepalWidth': 3.2, 'petalLength': 4.5, 'petalWidth': 1.5, 'species': 'versicolor'}, {'sepalLength': 6.9, 'sepalWidth': 3.1, 'petalLength': 4.9, 'petalWidth': 1.5, 'species': 'versicolor'}, {'sepalLength': 5.5, 'sepalWidth': 2.3, 'petalLength': 4.0, 'petalWidth': 1.3, 'species': 'versicolor'}, {'sepalLength': 6.5, 'sepalWidth': 2.8, 'petalLength': 4.6, 'petalWidth': 1.5, 'species': 'versicolor'}, {'sepalLength': 5.7, 'sepalWidth': 2.8, 'petalLength': 4.5, 'petalWidth': 1.3, 'species': 'versicolor'}, {'sepalLength': 6.3, 'sepalWidth': 3.3, 'petalLength': 4.7, 'petalWidth': 1.6, 'species': 'versicolor'}, {'sepalLength': 4.9, 'sepalWidth': 2.4, 'petalLength': 3.3, 'petalWidth': 1.0, 'species': 'versicolor'}, {'sepalLength': 6.6, 'sepalWidth': 2.9, 'petalLength': 4.6, 'petalWidth': 1.3, 'species': 'versicolor'}, {'sepalLength': 5.2, 'sepalWidth': 2.7, 'petalLength': 3.9, 'petalWidth': 1.4, 'species': 'versicolor'}, {'sepalLength': 5.0, 'sepalWidth': 2.0, 'petalLength': 3.5, 'petalWidth': 1.0, 'species': 'versicolor'}, {'sepalLength': 5.9, 'sepalWidth': 3.0, 'petalLength': 4.2, 'petalWidth': 1.5, 'species': 'versicolor'}, {'sepalLength': 6.0, 'sepalWidth': 2.2, 'petalLength': 4.0, 'petalWidth': 1.0, 'species': 'versicolor'}, {'sepalLength': 6.1, 'sepalWidth': 2.9, 'petalLength': 4.7, 'petalWidth': 1.4, 'species': 'versicolor'}, {'sepalLength': 5.6, 'sepalWidth': 2.9, 'petalLength': 3.6, 'petalWidth': 1.3, 'species': 'versicolor'}, {'sepalLength': 6.7, 'sepalWidth': 3.1, 'petalLength': 4.4, 'petalWidth': 1.4, 'species': 'versicolor'}, {'sepalLength': 5.6, 'sepalWidth': 3.0, 'petalLength': 4.5, 'petalWidth': 1.5, 'species': 'versicolor'}, {'sepalLength': 5.8, 'sepalWidth': 2.7, 'petalLength': 4.1, 'petalWidth': 1.0, 'species': 'versicolor'}, {'sepalLength': 6.2, 'sepalWidth': 2.2, 'petalLength': 4.5, 'petalWidth': 1.5, 'species': 'versicolor'}, {'sepalLength': 5.6, 'sepalWidth': 2.5, 'petalLength': 3.9, 'petalWidth': 1.1, 'species': 'versicolor'}, {'sepalLength': 5.9, 'sepalWidth': 3.2, 'petalLength': 4.8, 'petalWidth': 1.8, 'species': 'versicolor'}, {'sepalLength': 6.1, 'sepalWidth': 2.8, 'petalLength': 4.0, 'petalWidth': 1.3, 'species': 'versicolor'}, {'sepalLength': 6.3, 'sepalWidth': 2.5, 'petalLength': 4.9, 'petalWidth': 1.5, 'species': 'versicolor'}, {'sepalLength': 6.1, 'sepalWidth': 2.8, 'petalLength': 4.7, 'petalWidth': 1.2, 'species': 'versicolor'}, {'sepalLength': 6.4, 'sepalWidth': 2.9, 'petalLength': 4.3, 'petalWidth': 1.3, 'species': 'versicolor'}, {'sepalLength': 6.6, 'sepalWidth': 3.0, 'petalLength': 4.4, 'petalWidth': 1.4, 'species': 'versicolor'}, {'sepalLength': 6.8, 'sepalWidth': 2.8, 'petalLength': 4.8, 'petalWidth': 1.4, 'species': 'versicolor'}, {'sepalLength': 6.7, 'sepalWidth': 3.0, 'petalLength': 5.0, 'petalWidth': 1.7, 'species': 'versicolor'}, {'sepalLength': 6.0, 'sepalWidth': 2.9, 'petalLength': 4.5, 'petalWidth': 1.5, 'species': 'versicolor'}, {'sepalLength': 5.7, 'sepalWidth': 2.6, 'petalLength': 3.5, 'petalWidth': 1.0, 'species': 'versicolor'}, {'sepalLength': 5.5, 'sepalWidth': 2.4, 'petalLength': 3.8, 'petalWidth': 1.1, 'species': 'versicolor'}, {'sepalLength': 5.5, 'sepalWidth': 2.4, 'petalLength': 3.7, 'petalWidth': 1.0, 'species': 'versicolor'}, {'sepalLength': 5.8, 'sepalWidth': 2.7, 'petalLength': 3.9, 'petalWidth': 1.2, 'species': 'versicolor'}, {'sepalLength': 6.0, 'sepalWidth': 2.7, 'petalLength': 5.1, 'petalWidth': 1.6, 'species': 'versicolor'}, {'sepalLength': 5.4, 'sepalWidth': 3.0, 'petalLength': 4.5, 'petalWidth': 1.5, 'species': 'versicolor'}, {'sepalLength': 6.0, 'sepalWidth': 3.4, 'petalLength': 4.5, 'petalWidth': 1.6, 'species': 'versicolor'}, {'sepalLength': 6.7, 'sepalWidth': 3.1, 'petalLength': 4.7, 'petalWidth': 1.5, 'species': 'versicolor'}, {'sepalLength': 6.3, 'sepalWidth': 2.3, 'petalLength': 4.4, 'petalWidth': 1.3, 'species': 'versicolor'}, {'sepalLength': 5.6, 'sepalWidth': 3.0, 'petalLength': 4.1, 'petalWidth': 1.3, 'species': 'versicolor'}, {'sepalLength': 5.5, 'sepalWidth': 2.5, 'petalLength': 4.0, 'petalWidth': 1.3, 'species': 'versicolor'}, {'sepalLength': 5.5, 'sepalWidth': 2.6, 'petalLength': 4.4, 'petalWidth': 1.2, 'species': 'versicolor'}, {'sepalLength': 6.1, 'sepalWidth': 3.0, 'petalLength': 4.6, 'petalWidth': 1.4, 'species': 'versicolor'}, {'sepalLength': 5.8, 'sepalWidth': 2.6, 'petalLength': 4.0, 'petalWidth': 1.2, 'species': 'versicolor'}, {'sepalLength': 5.0, 'sepalWidth': 2.3, 'petalLength': 3.3, 'petalWidth': 1.0, 'species': 'versicolor'}, {'sepalLength': 5.6, 'sepalWidth': 2.7, 'petalLength': 4.2, 'petalWidth': 1.3, 'species': 'versicolor'}, {'sepalLength': 5.7, 'sepalWidth': 3.0, 'petalLength': 4.2, 'petalWidth': 1.2, 'species': 'versicolor'}, {'sepalLength': 5.7, 'sepalWidth': 2.9, 'petalLength': 4.2, 'petalWidth': 1.3, 'species': 'versicolor'}, {'sepalLength': 6.2, 'sepalWidth': 2.9, 'petalLength': 4.3, 'petalWidth': 1.3, 'species': 'versicolor'}, {'sepalLength': 5.1, 'sepalWidth': 2.5, 'petalLength': 3.0, 'petalWidth': 1.1, 'species': 'versicolor'}, {'sepalLength': 5.7, 'sepalWidth': 2.8, 'petalLength': 4.1, 'petalWidth': 1.3, 'species': 'versicolor'}, {'sepalLength': 6.3, 'sepalWidth': 3.3, 'petalLength': 6.0, 'petalWidth': 2.5, 'species': 'virginica'}, {'sepalLength': 5.8, 'sepalWidth': 2.7, 'petalLength': 5.1, 'petalWidth': 1.9, 'species': 'virginica'}, {'sepalLength': 7.1, 'sepalWidth': 3.0, 'petalLength': 5.9, 'petalWidth': 2.1, 'species': 'virginica'}, {'sepalLength': 6.3, 'sepalWidth': 2.9, 'petalLength': 5.6, 'petalWidth': 1.8, 'species': 'virginica'}, {'sepalLength': 6.5, 'sepalWidth': 3.0, 'petalLength': 5.8, 'petalWidth': 2.2, 'species': 'virginica'}, {'sepalLength': 7.6, 'sepalWidth': 3.0, 'petalLength': 6.6, 'petalWidth': 2.1, 'species': 'virginica'}, {'sepalLength': 4.9, 'sepalWidth': 2.5, 'petalLength': 4.5, 'petalWidth': 1.7, 'species': 'virginica'}, {'sepalLength': 7.3, 'sepalWidth': 2.9, 'petalLength': 6.3, 'petalWidth': 1.8, 'species': 'virginica'}, {'sepalLength': 6.7, 'sepalWidth': 2.5, 'petalLength': 5.8, 'petalWidth': 1.8, 'species': 'virginica'}, {'sepalLength': 7.2, 'sepalWidth': 3.6, 'petalLength': 6.1, 'petalWidth': 2.5, 'species': 'virginica'}, {'sepalLength': 6.5, 'sepalWidth': 3.2, 'petalLength': 5.1, 'petalWidth': 2.0, 'species': 'virginica'}, {'sepalLength': 6.4, 'sepalWidth': 2.7, 'petalLength': 5.3, 'petalWidth': 1.9, 'species': 'virginica'}, {'sepalLength': 6.8, 'sepalWidth': 3.0, 'petalLength': 5.5, 'petalWidth': 2.1, 'species': 'virginica'}, {'sepalLength': 5.7, 'sepalWidth': 2.5, 'petalLength': 5.0, 'petalWidth': 2.0, 'species': 'virginica'}, {'sepalLength': 5.8, 'sepalWidth': 2.8, 'petalLength': 5.1, 'petalWidth': 2.4, 'species': 'virginica'}, {'sepalLength': 6.4, 'sepalWidth': 3.2, 'petalLength': 5.3, 'petalWidth': 2.3, 'species': 'virginica'}, {'sepalLength': 6.5, 'sepalWidth': 3.0, 'petalLength': 5.5, 'petalWidth': 1.8, 'species': 'virginica'}, {'sepalLength': 7.7, 'sepalWidth': 3.8, 'petalLength': 6.7, 'petalWidth': 2.2, 'species': 'virginica'}, {'sepalLength': 7.7, 'sepalWidth': 2.6, 'petalLength': 6.9, 'petalWidth': 2.3, 'species': 'virginica'}, {'sepalLength': 6.0, 'sepalWidth': 2.2, 'petalLength': 5.0, 'petalWidth': 1.5, 'species': 'virginica'}, {'sepalLength': 6.9, 'sepalWidth': 3.2, 'petalLength': 5.7, 'petalWidth': 2.3, 'species': 'virginica'}, {'sepalLength': 5.6, 'sepalWidth': 2.8, 'petalLength': 4.9, 'petalWidth': 2.0, 'species': 'virginica'}, {'sepalLength': 7.7, 'sepalWidth': 2.8, 'petalLength': 6.7, 'petalWidth': 2.0, 'species': 'virginica'}, {'sepalLength': 6.3, 'sepalWidth': 2.7, 'petalLength': 4.9, 'petalWidth': 1.8, 'species': 'virginica'}, {'sepalLength': 6.7, 'sepalWidth': 3.3, 'petalLength': 5.7, 'petalWidth': 2.1, 'species': 'virginica'}, {'sepalLength': 7.2, 'sepalWidth': 3.2, 'petalLength': 6.0, 'petalWidth': 1.8, 'species': 'virginica'}, {'sepalLength': 6.2, 'sepalWidth': 2.8, 'petalLength': 4.8, 'petalWidth': 1.8, 'species': 'virginica'}, {'sepalLength': 6.1, 'sepalWidth': 3.0, 'petalLength': 4.9, 'petalWidth': 1.8, 'species': 'virginica'}, {'sepalLength': 6.4, 'sepalWidth': 2.8, 'petalLength': 5.6, 'petalWidth': 2.1, 'species': 'virginica'}, {'sepalLength': 7.2, 'sepalWidth': 3.0, 'petalLength': 5.8, 'petalWidth': 1.6, 'species': 'virginica'}, {'sepalLength': 7.4, 'sepalWidth': 2.8, 'petalLength': 6.1, 'petalWidth': 1.9, 'species': 'virginica'}, {'sepalLength': 7.9, 'sepalWidth': 3.8, 'petalLength': 6.4, 'petalWidth': 2.0, 'species': 'virginica'}, {'sepalLength': 6.4, 'sepalWidth': 2.8, 'petalLength': 5.6, 'petalWidth': 2.2, 'species': 'virginica'}, {'sepalLength': 6.3, 'sepalWidth': 2.8, 'petalLength': 5.1, 'petalWidth': 1.5, 'species': 'virginica'}, {'sepalLength': 6.1, 'sepalWidth': 2.6, 'petalLength': 5.6, 'petalWidth': 1.4, 'species': 'virginica'}, {'sepalLength': 7.7, 'sepalWidth': 3.0, 'petalLength': 6.1, 'petalWidth': 2.3, 'species': 'virginica'}, {'sepalLength': 6.3, 'sepalWidth': 3.4, 'petalLength': 5.6, 'petalWidth': 2.4, 'species': 'virginica'}, {'sepalLength': 6.4, 'sepalWidth': 3.1, 'petalLength': 5.5, 'petalWidth': 1.8, 'species': 'virginica'}, {'sepalLength': 6.0, 'sepalWidth': 3.0, 'petalLength': 4.8, 'petalWidth': 1.8, 'species': 'virginica'}, {'sepalLength': 6.9, 'sepalWidth': 3.1, 'petalLength': 5.4, 'petalWidth': 2.1, 'species': 'virginica'}, {'sepalLength': 6.7, 'sepalWidth': 3.1, 'petalLength': 5.6, 'petalWidth': 2.4, 'species': 'virginica'}, {'sepalLength': 6.9, 'sepalWidth': 3.1, 'petalLength': 5.1, 'petalWidth': 2.3, 'species': 'virginica'}, {'sepalLength': 5.8, 'sepalWidth': 2.7, 'petalLength': 5.1, 'petalWidth': 1.9, 'species': 'virginica'}, {'sepalLength': 6.8, 'sepalWidth': 3.2, 'petalLength': 5.9, 'petalWidth': 2.3, 'species': 'virginica'}, {'sepalLength': 6.7, 'sepalWidth': 3.3, 'petalLength': 5.7, 'petalWidth': 2.5, 'species': 'virginica'}, {'sepalLength': 6.7, 'sepalWidth': 3.0, 'petalLength': 5.2, 'petalWidth': 2.3, 'species': 'virginica'}, {'sepalLength': 6.3, 'sepalWidth': 2.5, 'petalLength': 5.0, 'petalWidth': 1.9, 'species': 'virginica'}, {'sepalLength': 6.5, 'sepalWidth': 3.0, 'petalLength': 5.2, 'petalWidth': 2.0, 'species': 'virginica'}, {'sepalLength': 6.2, 'sepalWidth': 3.4, 'petalLength': 5.4, 'petalWidth': 2.3, 'species': 'virginica'}, {'sepalLength': 5.9, 'sepalWidth': 3.0, 'petalLength': 5.1, 'petalWidth': 1.8, 'species': 'virginica'}]\n",
      "\n",
      "Modified Data (added new record):\n",
      "Total records: 151\n",
      "Last record: {'sepalLength': 5.2, 'sepalWidth': 3.5, 'petalLength': 1.4, 'petalWidth': 0.2, 'species': 'setosa'}\n",
      "\n",
      "Modified data saved to 'iris_modified.json'\n"
     ]
    }
   ],
   "source": [
    "import json\n",
    "#read json file\n",
    "with open(\"iris.json\", \"r\") as f:\n",
    "    data = json.load(f)\n",
    "    print(\"Original Data:\")\n",
    "    print(data)\n",
    "\n",
    "#Modify data (example: add a new record)\n",
    "new_record = {'sepalLength': 5.2, 'sepalWidth': 3.5, 'petalLength': 1.4, 'petalWidth': 0.2, 'species': 'setosa'}\n",
    "data.append(new_record)\n",
    "\n",
    "print(\"\\nModified Data (added new record):\")\n",
    "print(f\"Total records: {len(data)}\")\n",
    "print(\"Last record:\", data[-1])\n",
    "\n",
    "#Write modified data back to JSON file\n",
    "with open(\"iris_modified.json\", \"w\") as f:\n",
    "    json.dump(data, f, indent=2)\n",
    "\n",
    "print(\"\\nModified data saved to 'iris_modified.json'\")\n"
   ]
  }
 ],
 "metadata": {
  "kernelspec": {
   "display_name": "Python 3",
   "language": "python",
   "name": "python3"
  },
  "language_info": {
   "codemirror_mode": {
    "name": "ipython",
    "version": 3
   },
   "file_extension": ".py",
   "mimetype": "text/x-python",
   "name": "python",
   "nbconvert_exporter": "python",
   "pygments_lexer": "ipython3",
   "version": "3.13.7"
  }
 },
 "nbformat": 4,
 "nbformat_minor": 5
}
